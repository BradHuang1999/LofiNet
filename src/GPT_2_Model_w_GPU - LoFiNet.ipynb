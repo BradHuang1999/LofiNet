{
  "nbformat": 4,
  "nbformat_minor": 0,
  "metadata": {
    "colab": {
      "name": "Copy of Train a GPT-2 Text-Generating Model w/ GPU",
      "provenance": [],
      "collapsed_sections": [
        "mxrM5Gz8Z8q3",
        "9riRzFC5AWgA"
      ],
      "toc_visible": true
    },
    "kernelspec": {
      "name": "python3",
      "display_name": "Python 3"
    },
    "accelerator": "GPU"
  },
  "cells": [
    {
      "cell_type": "markdown",
      "metadata": {
        "id": "N1VnqTvNaEAV",
        "colab_type": "text"
      },
      "source": [
        "# Constants"
      ]
    },
    {
      "cell_type": "code",
      "metadata": {
        "id": "Gw3xAWKt_iV0",
        "colab_type": "code",
        "colab": {}
      },
      "source": [
        "main_dir = \"gpt2simple/\"\n",
        "drive_pre = \"/content/drive/My Drive/\"\n",
        "\n",
        "# run_all: all the data\n",
        "# run_1: only dataset 1 (15 melodies)\n",
        "# run_2: only dataset 2 (other set of melodies)\n",
        "run = \"run_1\""
      ],
      "execution_count": 3,
      "outputs": []
    },
    {
      "cell_type": "markdown",
      "metadata": {
        "id": "udeSCKQN-ys3",
        "colab_type": "text"
      },
      "source": [
        "# Encoding/Decoding"
      ]
    },
    {
      "cell_type": "code",
      "metadata": {
        "id": "JVC6B4ke_F04",
        "colab_type": "code",
        "colab": {
          "base_uri": "https://localhost:8080/",
          "height": 102
        },
        "outputId": "e8d464e7-1853-4460-d72c-a5a197e37983"
      },
      "source": [
        "!pip install mido\n",
        "from mido.messages.messages import Message as MidoMessage\n",
        "from mido import MidiFile, MidiTrack, Message, MetaMessage\n",
        "import shutil\n",
        "import os\n",
        "import tarfile"
      ],
      "execution_count": 1,
      "outputs": [
        {
          "output_type": "stream",
          "text": [
            "Collecting mido\n",
            "\u001b[?25l  Downloading https://files.pythonhosted.org/packages/20/0a/81beb587b1ae832ea6a1901dc7c6faa380e8dd154e0a862f0a9f3d2afab9/mido-1.2.9-py2.py3-none-any.whl (52kB)\n",
            "\r\u001b[K     |██████▎                         | 10kB 25.5MB/s eta 0:00:01\r\u001b[K     |████████████▌                   | 20kB 1.8MB/s eta 0:00:01\r\u001b[K     |██████████████████▊             | 30kB 2.4MB/s eta 0:00:01\r\u001b[K     |█████████████████████████       | 40kB 2.7MB/s eta 0:00:01\r\u001b[K     |███████████████████████████████▏| 51kB 2.1MB/s eta 0:00:01\r\u001b[K     |████████████████████████████████| 61kB 2.0MB/s \n",
            "\u001b[?25hInstalling collected packages: mido\n",
            "Successfully installed mido-1.2.9\n"
          ],
          "name": "stdout"
        }
      ]
    },
    {
      "cell_type": "code",
      "metadata": {
        "id": "EBFpz_Xh_XVu",
        "colab_type": "code",
        "colab": {
          "base_uri": "https://localhost:8080/",
          "height": 122
        },
        "outputId": "0c6d2f5b-f514-430a-a15b-77ce40174a7b"
      },
      "source": [
        "from google.colab import drive\n",
        "drive.mount('/content/drive')"
      ],
      "execution_count": 2,
      "outputs": [
        {
          "output_type": "stream",
          "text": [
            "Go to this URL in a browser: https://accounts.google.com/o/oauth2/auth?client_id=947318989803-6bn6qk8qdgf4n4g3pfee6491hc0brc4i.apps.googleusercontent.com&redirect_uri=urn%3aietf%3awg%3aoauth%3a2.0%3aoob&response_type=code&scope=email%20https%3a%2f%2fwww.googleapis.com%2fauth%2fdocs.test%20https%3a%2f%2fwww.googleapis.com%2fauth%2fdrive%20https%3a%2f%2fwww.googleapis.com%2fauth%2fdrive.photos.readonly%20https%3a%2f%2fwww.googleapis.com%2fauth%2fpeopleapi.readonly\n",
            "\n",
            "Enter your authorization code:\n",
            "··········\n",
            "Mounted at /content/drive\n"
          ],
          "name": "stdout"
        }
      ]
    },
    {
      "cell_type": "markdown",
      "metadata": {
        "id": "vaQnCjEKOZid",
        "colab_type": "text"
      },
      "source": [
        "## Set up shared folder\n",
        "\n",
        "gpt2simple: https://drive.google.com/drive/folders/1DJ_Dch1pS9LqtETvr7iIKbkLU5T1dWst?usp=sharing\n",
        "\n",
        "1.   Open link\n",
        "2.   Click on folder name in path, opens the dropdown\n",
        "3.   Click on \"Add shortcut to drive\"\n",
        "4.   You should now be able to access the model and training data"
      ]
    },
    {
      "cell_type": "markdown",
      "metadata": {
        "id": "mxrM5Gz8Z8q3",
        "colab_type": "text"
      },
      "source": [
        "## Function implmentations"
      ]
    },
    {
      "cell_type": "code",
      "metadata": {
        "id": "0zizfeTS_GWm",
        "colab_type": "code",
        "colab": {}
      },
      "source": [
        "def encoder(midi_file, smallest_note=16):\n",
        "  # Mido assumes 1 beat = 1/4 note, so convert to ticks per unit\n",
        "  ticks_per_unit = ( midi_file.ticks_per_beat * 4 ) / smallest_note\n",
        "\n",
        "  notes_to_play = []\n",
        "  units = []\n",
        "  current_unit = 0\n",
        "  for msg in midi_file.tracks[0]:\n",
        "    if type(msg) == MidoMessage:\n",
        "      # How many units since the last message, msg.time is in ticks\n",
        "      #   currently rounds to closest\n",
        "      unit_delta = int(round(msg.time / ticks_per_unit))\n",
        "\n",
        "      # Fill in all the time between then and now\n",
        "      for i in range(current_unit,current_unit+unit_delta):\n",
        "        if notes_to_play:\n",
        "          units.append('/'.join(notes_to_play))\n",
        "        else:\n",
        "          units.append(\"-\")\n",
        "\n",
        "      # Do this after since msg.time is the # of ticks since last msg\n",
        "      #   aka need to fill in the info since last and then remove/add the note\n",
        "      if msg.type == \"note_on\":\n",
        "        if str(msg.note) not in notes_to_play:\n",
        "          notes_to_play.append(str(msg.note))\n",
        "      elif msg.type == \"note_off\":\n",
        "        if str(msg.note) in notes_to_play:\n",
        "          notes_to_play.remove(str(msg.note))\n",
        "      current_unit += unit_delta\n",
        "  return \" \".join(units) + \".\"\n",
        "\n",
        "def decoder(midi_string, ticks_per_unit=120, name=\"Untitled track\", instrument_name=\"Steinway Grand Piano\", key=\"C\", tempo=600000):\n",
        "  new_mid = MidiFile()\n",
        "  track = MidiTrack()\n",
        "  new_mid.tracks.append(track)\n",
        "\n",
        "  track.append(MetaMessage('channel_prefix', channel=0, time=0))\n",
        "  track.append(MetaMessage('track_name', name=name, time=0))\n",
        "  track.append(MetaMessage('instrument_name', name=instrument_name, time=0))\n",
        "  track.append(MetaMessage('time_signature', numerator=4, denominator=4, clocks_per_click=24, notated_32nd_notes_per_beat=8, time=0))\n",
        "  track.append(MetaMessage('key_signature', key=key, time=0))\n",
        "  track.append(MetaMessage('smpte_offset', frame_rate=24, hours=33, minutes=0, seconds=0, frames=0, sub_frames=0,  time=0))\n",
        "  track.append(MetaMessage('set_tempo', tempo=tempo, time=0))\n",
        "\n",
        "  playing_notes = []\n",
        "  time_delta = 0\n",
        "  for unit in midi_string.split():\n",
        "    if unit == \"\":\n",
        "      continue\n",
        "    unit_string = unit[:]\n",
        "    if unit[-1] == \",\" or unit[-1] == \".\":\n",
        "      unit_string = unit[:-1]\n",
        "    if unit[0] == \"-\":\n",
        "      continue\n",
        "    notes = list(set([int(note) for note in unit_string.split(\"/\")]))\n",
        "\n",
        "    for playing_note in playing_notes:\n",
        "      if playing_note not in notes:\n",
        "        track.append(Message('note_off', note=playing_note, time=time_delta))\n",
        "        time_delta=0\n",
        "\n",
        "    for note in notes:\n",
        "      if note not in playing_notes:\n",
        "        track.append(Message('note_on', note=note, time=time_delta))\n",
        "        time_delta=0\n",
        "    \n",
        "    time_delta += ticks_per_unit\n",
        "    playing_notes = notes\n",
        "  track.append(MetaMessage('end_of_track', time=len(midi_string.split()) * ticks_per_unit))\n",
        "  return new_mid"
      ],
      "execution_count": 4,
      "outputs": []
    },
    {
      "cell_type": "markdown",
      "metadata": {
        "id": "9riRzFC5AWgA",
        "colab_type": "text"
      },
      "source": [
        "## Encoding all the data\n",
        "Run this before training\n",
        "\n",
        "Only needed if training data has been changed/added"
      ]
    },
    {
      "cell_type": "code",
      "metadata": {
        "id": "XoaOW_SY_KvL",
        "colab_type": "code",
        "colab": {
          "base_uri": "https://localhost:8080/",
          "height": 289
        },
        "outputId": "a3304481-2eb6-46e2-accc-bb16fc797ccf"
      },
      "source": [
        "file_list = []\n",
        "if run == \"run_all\" or run == \"run_1\":\n",
        "  data_folder = drive_pre+\"lofi_tracks_dataset/melody/\"\n",
        "  for item in os.listdir(data_folder):\n",
        "    if item[-4:] == \".mid\":\n",
        "      file_list.append(data_folder+item)\n",
        "\n",
        "if run == \"run_all\" or run == \"run_2\":\n",
        "  data_folder2 = drive_pre+\"lofi samples/melodies/midi/\"\n",
        "  for item in os.listdir(data_folder2):\n",
        "    if item[-4:] == \".mid\":\n",
        "      file_list.append(data_folder2+item)\n",
        "\n",
        "data_string = \"\"\n",
        "for midi_file in file_list:\n",
        "  print(\">> Encoding\", midi_file)\n",
        "  mid_obj = MidiFile(midi_file)\n",
        "  encoded_midi = encoder(mid_obj)\n",
        "  if encoded_midi == \".\":\n",
        "    continue\n",
        "  data_string += encoded_midi + \"<|endoftext|>\"\n",
        "\n",
        "data_file_name = drive_pre+main_dir+\"midi_text_dataset_{}.txt\".format(run)\n",
        "\n",
        "print(\"saving to\",data_file_name)\n",
        "\n",
        "with open(data_file_name, \"w\") as f:\n",
        "  f.write(data_string)\n"
      ],
      "execution_count": 33,
      "outputs": [
        {
          "output_type": "stream",
          "text": [
            ">> Encoding /content/drive/My Drive/lofi_tracks_dataset/melody/lofitrack_1_melody.mid\n",
            ">> Encoding /content/drive/My Drive/lofi_tracks_dataset/melody/lofitrack_2_melody.mid\n",
            ">> Encoding /content/drive/My Drive/lofi_tracks_dataset/melody/lofitrack_3_melody.mid\n",
            ">> Encoding /content/drive/My Drive/lofi_tracks_dataset/melody/lofitrack_4_melody.mid\n",
            ">> Encoding /content/drive/My Drive/lofi_tracks_dataset/melody/lofitrack_5_melody.mid\n",
            ">> Encoding /content/drive/My Drive/lofi_tracks_dataset/melody/lofitrack_6_melody.mid\n",
            ">> Encoding /content/drive/My Drive/lofi_tracks_dataset/melody/lofitrack_7_melody.mid\n",
            ">> Encoding /content/drive/My Drive/lofi_tracks_dataset/melody/lofitrack_8_melody.mid\n",
            ">> Encoding /content/drive/My Drive/lofi_tracks_dataset/melody/lofitrack_9_melody.mid\n",
            ">> Encoding /content/drive/My Drive/lofi_tracks_dataset/melody/lofitrack_10_melody.mid\n",
            ">> Encoding /content/drive/My Drive/lofi_tracks_dataset/melody/lofitrack11_melody.mid\n",
            ">> Encoding /content/drive/My Drive/lofi_tracks_dataset/melody/lofitrack_12_melody.mid\n",
            ">> Encoding /content/drive/My Drive/lofi_tracks_dataset/melody/lofitrack_13_melody.mid\n",
            ">> Encoding /content/drive/My Drive/lofi_tracks_dataset/melody/lofitrack_14_melody.mid\n",
            ">> Encoding /content/drive/My Drive/lofi_tracks_dataset/melody/lofitrack_15_melody.mid\n",
            "saving to /content/drive/My Drive/gpt2simple/midi_text_dataset_run_1.txt\n"
          ],
          "name": "stdout"
        }
      ]
    },
    {
      "cell_type": "markdown",
      "metadata": {
        "id": "8kSjWTuPAb-5",
        "colab_type": "text"
      },
      "source": [
        "## Decoding the data\n",
        "Run this after generating"
      ]
    },
    {
      "cell_type": "code",
      "metadata": {
        "id": "XMkHp_bv_MzU",
        "colab_type": "code",
        "colab": {
          "base_uri": "https://localhost:8080/",
          "height": 51
        },
        "outputId": "8910bbc5-8bd4-4129-91a7-f5efafc66577"
      },
      "source": [
        "generated_data_folder = drive_pre + main_dir + \"generated_midi_texts_{}/\".format(run)\n",
        "generated_file_list = []\n",
        "for item in os.listdir(generated_data_folder):\n",
        "  if item[-4:] == \".txt\":\n",
        "    generated_file_list.append(item)\n",
        "\n",
        "generated_output_folder = drive_pre + main_dir + \"generated_midi_output_{}/\".format(run)\n",
        "for midi_string_file in generated_file_list:\n",
        "  try:\n",
        "    save_file = generated_output_folder+midi_string_file[:-4]+\".mid\"\n",
        "    if os.path.isfile(save_file):\n",
        "      continue\n",
        "    with open(generated_data_folder+midi_string_file) as f:\n",
        "      mid_obj = decoder(f.read())\n",
        "      mid_obj.save(save_file)\n",
        "  except Exception as e:\n",
        "    print(\"{} wasn't a valid endoded file\".format(midi_string_file))\n",
        "    print(\"    Error:\", e)\n",
        "    continue"
      ],
      "execution_count": 15,
      "outputs": [
        {
          "output_type": "stream",
          "text": [
            "midi_string_output_6_20200721_034854.txt wasn't a valid endoded file\n",
            "    Error: invalid literal for int() with base 10: 'r'\n"
          ],
          "name": "stdout"
        }
      ]
    },
    {
      "cell_type": "markdown",
      "metadata": {
        "id": "H7LoMj4GA4n_",
        "colab_type": "text"
      },
      "source": [
        "#  Train a GPT-2 Text-Generating Model w/ GPU For Free \n",
        "\n",
        "by [Max Woolf](http://minimaxir.com)\n",
        "\n",
        "*Last updated: November 10th, 2019*\n",
        "\n",
        "Retrain an advanced text generating neural network on any text dataset **for free on a GPU using Collaboratory** using `gpt-2-simple`!\n",
        "\n",
        "For more about `gpt-2-simple`, you can visit [this GitHub repository](https://github.com/minimaxir/gpt-2-simple). You can also read my [blog post](https://minimaxir.com/2019/09/howto-gpt2/) for more information how to use this notebook!\n",
        "\n",
        "\n",
        "To get started:\n",
        "\n",
        "1. Copy this notebook to your Google Drive to keep it and save your changes. (File -> Save a Copy in Drive)\n",
        "2. Make sure you're running the notebook in Google Chrome.\n",
        "3. Run the cells below:\n"
      ]
    },
    {
      "cell_type": "code",
      "metadata": {
        "id": "KBkpRgBCBS2_",
        "colab_type": "code",
        "colab": {
          "base_uri": "https://localhost:8080/",
          "height": 187
        },
        "outputId": "296afb75-a4d9-4926-ea2f-27711bf172ff"
      },
      "source": [
        "%tensorflow_version 1.x\n",
        "!pip install -q gpt-2-simple\n",
        "import gpt_2_simple as gpt2\n",
        "from datetime import datetime\n",
        "from google.colab import files"
      ],
      "execution_count": 5,
      "outputs": [
        {
          "output_type": "stream",
          "text": [
            "TensorFlow 1.x selected.\n",
            "  Building wheel for gpt-2-simple (setup.py) ... \u001b[?25l\u001b[?25hdone\n",
            "WARNING:tensorflow:\n",
            "The TensorFlow contrib module will not be included in TensorFlow 2.0.\n",
            "For more information, please see:\n",
            "  * https://github.com/tensorflow/community/blob/master/rfcs/20180907-contrib-sunset.md\n",
            "  * https://github.com/tensorflow/addons\n",
            "  * https://github.com/tensorflow/io (for I/O related ops)\n",
            "If you depend on functionality not listed there, please file an issue.\n",
            "\n"
          ],
          "name": "stdout"
        }
      ]
    },
    {
      "cell_type": "markdown",
      "metadata": {
        "id": "0wXB05bPDYxS",
        "colab_type": "text"
      },
      "source": [
        "## Downloading GPT-2\n",
        "\n",
        "If you're retraining a model on new text, you need to download the GPT-2 model first. \n",
        "\n",
        "There are three released sizes of GPT-2:\n",
        "\n",
        "* `124M` (default): the \"small\" model, 500MB on disk.\n",
        "* `355M`: the \"medium\" model, 1.5GB on disk.\n",
        "* `774M`: the \"large\" model, cannot currently be finetuned with Colaboratory but can be used to generate text from the pretrained model (see later in Notebook)\n",
        "* `1558M`: the \"extra large\", true model. Will not work if a K80 GPU is attached to the notebook. (like `774M`, it cannot be finetuned).\n",
        "\n",
        "Larger models have more knowledge, but take longer to finetune and longer to generate text. You can specify which base model to use by changing `model_name` in the cells below.\n",
        "\n",
        "The next cell downloads it from Google Cloud Storage and saves it in the Colaboratory VM at `/models/<model_name>`.\n",
        "\n",
        "This model isn't permanently saved in the Colaboratory VM; you'll have to redownload it if you want to retrain it at a later time."
      ]
    },
    {
      "cell_type": "code",
      "metadata": {
        "id": "P8wSlgXoDPCR",
        "colab_type": "code",
        "colab": {
          "base_uri": "https://localhost:8080/",
          "height": 136
        },
        "outputId": "b3bb7604-7ad5-4867-8745-f7e86f3764db"
      },
      "source": [
        "gpt2.download_gpt2(model_name=\"124M\")"
      ],
      "execution_count": 6,
      "outputs": [
        {
          "output_type": "stream",
          "text": [
            "Fetching checkpoint: 1.05Mit [00:00, 533Mit/s]                                                      \n",
            "Fetching encoder.json: 1.05Mit [00:00, 119Mit/s]                                                    \n",
            "Fetching hparams.json: 1.05Mit [00:00, 423Mit/s]                                                    \n",
            "Fetching model.ckpt.data-00000-of-00001: 498Mit [00:02, 194Mit/s]                                   \n",
            "Fetching model.ckpt.index: 1.05Mit [00:00, 322Mit/s]                                                \n",
            "Fetching model.ckpt.meta: 1.05Mit [00:00, 197Mit/s]                                                 \n",
            "Fetching vocab.bpe: 1.05Mit [00:00, 212Mit/s]                                                       \n"
          ],
          "name": "stderr"
        }
      ]
    },
    {
      "cell_type": "markdown",
      "metadata": {
        "id": "N8KXuKWzQSsN",
        "colab_type": "text"
      },
      "source": [
        "## Mounting Google Drive\n",
        "\n",
        "The best way to get input text to-be-trained into the Colaboratory VM, and to get the trained model *out* of Colaboratory, is to route it through Google Drive *first*.\n",
        "\n",
        "Running this cell (which will only work in Colaboratory) will mount your personal Google Drive in the VM, which later cells can use to get data in/out. (it will ask for an auth code; that auth is not saved anywhere)"
      ]
    },
    {
      "cell_type": "code",
      "metadata": {
        "id": "puq4iC6vUAHc",
        "colab_type": "code",
        "colab": {
          "base_uri": "https://localhost:8080/",
          "height": 34
        },
        "outputId": "bab0bf3b-05a7-45e1-dc0c-878ddf3f4525"
      },
      "source": [
        "gpt2.mount_gdrive()"
      ],
      "execution_count": 7,
      "outputs": [
        {
          "output_type": "stream",
          "text": [
            "Drive already mounted at /content/drive; to attempt to forcibly remount, call drive.mount(\"/content/drive\", force_remount=True).\n"
          ],
          "name": "stdout"
        }
      ]
    },
    {
      "cell_type": "markdown",
      "metadata": {
        "id": "BT__brhBCvJu",
        "colab_type": "text"
      },
      "source": [
        "## Uploading a Text File to be Trained to Colaboratory\n"
      ]
    },
    {
      "cell_type": "code",
      "metadata": {
        "id": "-Z6okFD8VKtS",
        "colab_type": "code",
        "colab": {}
      },
      "source": [
        "file_name = \"midi_text_dataset_{}.txt\".format(run)\n",
        "\n",
        "def copy_file_from_gdrive(file_name):\n",
        "  gpt2.is_mounted()\n",
        "  shutil.copyfile(drive_pre + main_dir + file_name, file_name)\n",
        "\n",
        "copy_file_from_gdrive(file_name)"
      ],
      "execution_count": 9,
      "outputs": []
    },
    {
      "cell_type": "markdown",
      "metadata": {
        "id": "LdpZQXknFNY3",
        "colab_type": "text"
      },
      "source": [
        "## Finetune GPT-2\n",
        "\n",
        "The next cell will start the actual finetuning of GPT-2. It creates a persistent TensorFlow session which stores the training config, then runs the training for the specified number of `steps`. (to have the finetuning run indefinitely, set `steps = -1`)\n",
        "\n",
        "The model checkpoints will be saved in `/checkpoint/run1` by default. The checkpoints are saved every 500 steps (can be changed) and when the cell is stopped.\n",
        "\n",
        "The training might time out after 4ish hours; make sure you end training and save the results so you don't lose them!\n",
        "\n",
        "**IMPORTANT NOTE:** If you want to rerun this cell, **restart the VM first** (Runtime -> Restart Runtime). You will need to rerun imports but not recopy files.\n",
        "\n",
        "Other optional-but-helpful parameters for `gpt2.finetune`:\n",
        "\n",
        "\n",
        "*  **`restore_from`**: Set to `fresh` to start training from the base GPT-2, or set to `latest` to restart training from an existing checkpoint.\n",
        "* **`sample_every`**: Number of steps to print example output\n",
        "* **`print_every`**: Number of steps to print training progress.\n",
        "* **`learning_rate`**:  Learning rate for the training. (default `1e-4`, can lower to `1e-5` if you have <1MB input data)\n",
        "*  **`run_name`**: subfolder within `checkpoint` to save the model. This is useful if you want to work with multiple models (will also need to specify  `run_name` when loading the model)\n",
        "* **`overwrite`**: Set to `True` if you want to continue finetuning an existing model (w/ `restore_from='latest'`) without creating duplicate copies. "
      ]
    },
    {
      "cell_type": "code",
      "metadata": {
        "id": "aeXshJM-Cuaf",
        "colab_type": "code",
        "colab": {
          "base_uri": "https://localhost:8080/",
          "height": 1000
        },
        "outputId": "af7e6fcb-abc4-40a1-e8ab-e7ee75551733"
      },
      "source": [
        "sess = gpt2.start_tf_sess()\n",
        "\n",
        "gpt2.finetune(sess,\n",
        "              dataset=file_name,\n",
        "              model_name='124M',\n",
        "              steps=1000,\n",
        "              restore_from='latest',\n",
        "              run_name=run,\n",
        "              print_every=10,\n",
        "              save_every=500\n",
        "              )"
      ],
      "execution_count": 10,
      "outputs": [
        {
          "output_type": "stream",
          "text": [
            "WARNING:tensorflow:From /usr/local/lib/python3.6/dist-packages/gpt_2_simple/src/sample.py:17: where (from tensorflow.python.ops.array_ops) is deprecated and will be removed in a future version.\n",
            "Instructions for updating:\n",
            "Use tf.where in 2.0, which has the same broadcast rule as np.where\n",
            "Loading checkpoint models/124M/model.ckpt\n",
            "INFO:tensorflow:Restoring parameters from models/124M/model.ckpt\n"
          ],
          "name": "stdout"
        },
        {
          "output_type": "stream",
          "text": [
            "100%|██████████| 1/1 [00:00<00:00, 1891.88it/s]"
          ],
          "name": "stderr"
        },
        {
          "output_type": "stream",
          "text": [
            "Loading dataset...\n",
            "dataset has 29743 tokens\n",
            "Training...\n"
          ],
          "name": "stdout"
        },
        {
          "output_type": "stream",
          "text": [
            "\n"
          ],
          "name": "stderr"
        },
        {
          "output_type": "stream",
          "text": [
            "[10 | 18.06] loss=0.38 avg=0.38\n",
            "[20 | 30.52] loss=0.31 avg=0.34\n",
            "[30 | 42.98] loss=0.49 avg=0.39\n",
            "[40 | 55.45] loss=0.37 avg=0.39\n",
            "[50 | 67.93] loss=0.32 avg=0.37\n",
            "[60 | 80.41] loss=0.38 avg=0.37\n",
            "[70 | 92.87] loss=0.12 avg=0.34\n",
            "[80 | 105.32] loss=0.13 avg=0.31\n",
            "[90 | 117.79] loss=0.10 avg=0.28\n",
            "[100 | 130.25] loss=0.12 avg=0.27\n",
            "======== SAMPLE 1 ========\n",
            "/63/68 53/56/59/62/70 53/56/59/62/70 53/56/59/62/70 53/56/59/62/70 53/56/59/62/70 50/58/60/63/68 50/58/60/63/68 50/58/60/63/68 50/58/60/63/68 50/58/60/63/68 50/58/60/63/68 50/58/60/63/68 50/58/60/63/68 50/58/60/63/68 50/58/60/63/68 50/58/60/63/68 50/58/60/63/68 50/58/60/63/68 50/58/60/63/68 50/58/60/63/68 50/58/60/63/68 50/58/60/63/68 50/58/60/63/68 50/58/60/63/68 50/58/60/63/68 50/58/60/63/68 50/58/60/63/68 50/58/60/63/68 50/58/60/63/68 50/58/60/63/68 50/58/60/63/68 50/58/60/63/68 50/58/60/63/68 50/58/60/63/68 50/58/60/63/68 50/58/60/63/68 50/58/60/63/68 50/58/60/63/68 50/58/60/63/68 50/58/60/63/68 50/58/60/63/68 50/58/60/63/68 50/58/60/63/68 50/58/60/63/68 50/58/60/63/68 50/58/60/63/68 50/58/60/63/68 50/58/60/63/68 50/58/60/63/68 50/58/60/63/68 50/58/60/63/68 50/58/60/63/68 50/58/60/63/68 50/58/60/63/68 50/58/60/63/68 50/58/60/63/68 50/58/60/63/68 50/58/60/63/68 50/58/60/63/68 50/58/60/63/68 50/58/60/63/68 50/58/60/63/68 50/58/60/63/68 50/58/60/63/68 50/58/60/63/68 50/58/60/63/68 50/58/60/63/68 50/58/60/63/68 50/58/60/63/68 50/58/60/63/68 50/58/60/63/68 50/58/60/63/68 50/58/60/63/68 50/58/60/63/68 50/58/60/63/68 50/58/60/63/68 50/58/60/63/68 50/58/60/63/68 50/58/60/63/68 50/58/60/63/68 50/58/60/63/68 50/58/60/63/68 50/58/60/63/68 50/58/60/63/68 50/58/60/63/68 50/58/60/63/68 50/58/60/63/68 50/58/60/63/68 50/58/60/63/68 50/58/60/63/68 50/58/60/63/68 50/58/60/63/68 50/58/60/63/68 50/58/60/63/68 50/58/60/63/68 50/58/60/63/68 50/58/60/63/68 50/58/60/63/68 50/58/60/63/68 50/58/60/63/68 50/58/60/63/68 50/58/60/63/68 50/58/60/63/68 50/58/60/63/68 50/58/60/63/68 50/58/60/63/68 50/58/60/63/68 50/58/60/63/68 50/58/60/63/68 50/58/60/63/68 50/58/60/63/68 50/58/60/63/68 50/58/60/63/68 50/58\n",
            "\n",
            "[110 | 152.66] loss=0.09 avg=0.25\n",
            "[120 | 165.12] loss=0.09 avg=0.24\n",
            "[130 | 177.56] loss=0.07 avg=0.22\n",
            "[140 | 190.01] loss=0.04 avg=0.21\n",
            "[150 | 202.44] loss=0.06 avg=0.20\n",
            "[160 | 214.87] loss=0.06 avg=0.19\n",
            "[170 | 227.33] loss=0.03 avg=0.18\n",
            "[180 | 239.78] loss=0.03 avg=0.17\n",
            "[190 | 252.24] loss=0.04 avg=0.16\n",
            "[200 | 264.73] loss=0.04 avg=0.16\n",
            "======== SAMPLE 1 ========\n",
            "54/58/69 46/54/58/61 46/54/58/61 46/54/58/61 46/54/58/61 46/54/58/61 46/54/58/61 46/54/58/61 46/54/58/61 47/54/57/61 47/54/57/61 47/54/57/61 47/54/57/61 47/54/57/61 47/54/57/61 47/54/57/61 47/54/57/61 47/54/57/61 47/54/61/57 47/54/61/57 47/54/61/57/61 47/54/57/61 47/54/61/57 47/54/57/61 47/54/61/57/61 47/54/57/61/60 47/54/61/57/61/60 47/54/61/57/61/60 47/54/61/57/61/60 47/54/61/57/61/60 47/54/61/57/61/60 47/54/61/57/61/60 47/54/61/57/61/60 47/54/61/57/61/60 47/54/61/61/57/61 47/54/61/57/61/60 47/54/61/57/61/60 47/54/61/57/61/60 47/54/61/57/61/60 47/54/61/57/61/60 47/54/61/57/61/60 47/54/61/57/61/60 47/54/61/57/61/60 47/54/61/57/61/60 47/54/61/57/61/60 47/54/61/57/61/60 43/61/66 43/61/66 43/61/66 43/61/66/62 43/61/66/62 43/61/66/62 43/61/66/62 43/61/66/62 43/61/66/62 43/61/66/62 43/61/66/62 43/61/66/62 43/61/62/66/62 43/61/62/66/62 43/61/62/66/62 43/61/62/66/62 43/61/62/66/62 43/61/62/66/62 43/61/62/66/62 43/61/62/66/62 43/61/62/66/62 43/61/62/66/62 43/61/62/66/62 43/61/62/66/62 43/61/62/66/62 43/61/62/66/62 43/61/62/66/62 43/61/62/66/62 43/61/62/66/62.<|endoftext|>34/46/53/62/69/72/77 34/46/53/62/69/72/77 34/46/53/62 34/46/53/62 34/46/53/62/69/72/77 34/46/53/62/69/72/77 34/46/53/62 34/46/53/62 34/46/53/62/69/72/77/81 34/46/53/62/69/72/77/81 34/46/53/62/81/84 34/46/53/62/84 46/53/62/84/34/69/72/77/81 46/53/62/34/69/72/77/81 46/53/62/81/33/72/79 46/53/62/81/33/72/79 31/43/50/58/69/74/77 31/43/50/58/69/74/77 31/43/50/58/69/74/77 31/43/50/58 31/43/50/58/69/74/77/81 31/43/50/58/69/74/77/81 31/43/50/58/84 31/43/50/58/84 43/50/58/69/74/77/81 43/50/58/69/74/77/81 43/50/58/81/33/74/79 43/50/58/81/33/74/79 26/41/50/57/69/72/77 26/41/50/57/69/72/77 26/41/50/57/69/72/77 26/41/50/57\n",
            "\n",
            "[210 | 285.98] loss=0.04 avg=0.15\n",
            "[220 | 298.43] loss=0.03 avg=0.14\n",
            "[230 | 310.90] loss=0.03 avg=0.14\n",
            "[240 | 323.34] loss=0.07 avg=0.14\n",
            "[250 | 335.77] loss=0.04 avg=0.13\n",
            "[260 | 348.22] loss=0.04 avg=0.13\n",
            "[270 | 360.66] loss=0.03 avg=0.12\n",
            "[280 | 373.10] loss=0.03 avg=0.12\n",
            "[290 | 385.55] loss=0.04 avg=0.12\n",
            "[300 | 397.99] loss=0.02 avg=0.11\n",
            "======== SAMPLE 1 ========\n",
            "/65/73 59/62/65/75 59/62/65/77 59/62/65/79 59/62/65/79 59/62/65/77 59/62/65/77 59/62/65/77 59/62/65/77 59/62/65/76 59/62/65/76 59/62/65/73 61/67/70/79 61/67/70/79 61/67/70/79 61/67/70/79 61/67/70/79 61/67/70/79 61/67/70/79 61/67/70/79 61/67/70/79 61/67/70/79 61/67/70/79 61/67/70/75 61/67/70/75 61/67/70/73 61/67/70/73 61/67/70/73 61/67/70/73 61/67/70/71 61/67/70/71 61/67/70/71 61/67/70/71 61/67/70/71 61/67/70/71 84 84 62/69/74/76/79/83 62/69/74/76/79/83 62/69/74/76/79/83 62/69/74/76/79/83 62/69/74/83 62/69/74/81 62/69/74/81 62/69/74/81 62/69/74/81 62/69/74/81 62/69/74/81 62/69/74/81 62/69/74/81 62/69/74/79 62/69/74/78 62/69/74/79 62/69/74/78 62/69/74/81 62/69/74/81 62/69/74/81 62/69/74/81 62/69/74/81 62/69/74/81 60/69/74/76/79/83 60/69/74/76/79/83 60/69/74/76/79/83 60/69/74/76/79/83 60/69/74/81 60/69/74/86 60/69/74/86 60/69/74/86 60/69/74/83 60/69/74/83 60/69/74/83 60/69/74/81 60/69/74/81 60/69/74/81 60/69/74/81 60/69/74/81 60/69/74/81 60/69/74/81 60/69/74/79 60/69/74/78 60/69/74/79 60/69/74/78 60/69/74/78 64/71/74/76/79/83 64/71/74/76/79/83 64/71/74/76/79/83 64/71/74/76/79/83 64/71/74/84 64/71/74/84 64/71/74/84 64/71/74/83 64/71/74/83 64/71/74/81 64/71/74/81 64/71/74/81 64/71/74/81 64/71/74/79 64/71/74/86 57/64/72/76/79/86 57/64/72/76/79/86 57/64/72/76/79/86 57/64/72/76/79/86 57/64/72/76/79/86 57/64/72/76/79/86 57/64/72/84 57/64/72/83 57/64/72/81 57/64/72/81 57/64/72/81 57/64/72/81 57/64/72/81 57/64/72/79 57/64/72/79 62/72/76/81/84/90 62/72/76/81/84/90 62/72/76/81/84/90 62/72/76/91 62/72/76/91 62/72/76/91 62/72/76/90 62/72/76/90 62/72/76/90 63/69/72/75/78/86 63/69/72/75/78/86 63/69/72/75/78/86 63/69/72/83 63/69/72/83 63/69/72/83 63/69/72/84 63/69/72/84 63/69/72/84 64/71/74/76/79/86 64/71/74/76/79/86 64/71/\n",
            "\n",
            "[310 | 419.19] loss=0.02 avg=0.11\n",
            "[320 | 431.63] loss=0.03 avg=0.11\n",
            "[330 | 444.09] loss=0.03 avg=0.10\n",
            "[340 | 456.54] loss=0.02 avg=0.10\n",
            "[350 | 469.00] loss=0.04 avg=0.10\n",
            "[360 | 481.44] loss=0.02 avg=0.10\n",
            "[370 | 493.88] loss=0.02 avg=0.09\n",
            "[380 | 506.34] loss=0.03 avg=0.09\n",
            "[390 | 518.78] loss=0.02 avg=0.09\n",
            "[400 | 531.24] loss=0.03 avg=0.09\n",
            "======== SAMPLE 1 ========\n",
            "54/58 34/46/53/62/81 34/46/53/62/81 34/46/53/62/81 46/53/62/81/54/58/69 46/53/62/81/54/58/69 46/53/62/81/54/58/69 46/53/62/81/54/58/69 46/53/62/81/54/58/69 46/53/62/84 47/74/77/80/85 47/74/77/80/85 47/74/77/80/85 47/74/77/80/85 47/74/77/80/85 47/74/77/79 47/74/77/79 47/74/77/79 47/74/77/72 47/74/77/72 47/74/77/72 47/74/57/69 47/74/57/69 47/74/57/69 47/74/57/69 48/74 48/75 48/78 48/81 48/82 48/83 48/85 48/86 48/87 48/90 48/ 91 91/102/113 91/102/113 91/102/113/ style/operation/50/69/72/77/79 91/102/113/50/69/72/77/79 91/102/113/50/69/72/77/79 91/102/113/50/69/72/77/79 91/102/113/50/69/72/77/79 91/102/113/50/69/72/77/79 91/102/113/50/69/72/77/75 91/102/113/50/69/72/77/75 91/102/113/50/69/72/77/74 49/62/69 49/62/72 68/71/74 68/71/74 68/71/74 68/71/74/ 64/71/74/78 64/71/74/81 64/71/74/83 64/71/74/84 64/71/74/83 64/71/74/84 64/71/74/83 64/71/74/81 64/71/74/81 64/71/74/81 64/71/74/81 64/71/74/79 64/71/74/86 57/64/72/76/79/86 57/64/72/76/79/86 57/64/72/76/79/86 57/64/72/76/79/86 57/64/72/76/79/86 57/64/72/76/79/86 57/64/72/74/76/79/86 57/64/72/74/76/79/86 57/64/72/71/74/81 57/64/72/71/74/81 57/64/72/71/74/81 57/64/72/71/74/81 57/64/72/71/74/81 57/64/72/71/74/81 57/64/72/71/74/81 57/64/72/71/74/81 57/64/72/71/74/81 57/64/72/71/74/81 57/64/72/71/74/81 57/64/72/71/74/81 57/64/72/71/74/81 57/64/72/71/74/81 57/64/72/71/74/81 57/64/72/71/74/81 57/64/72/71/74/81 57/64/72/71/74/81 57/64/72/71/74/81 57/64/72/71/74/81 57/64/72/71/74/81 57/64/72/71/74/81 57/64/72/71/74/81 57/64/72/71/74/81 57/64/72/71/74/81 57/64/72/71/74/81 57/64/72/71/74/81 57/64/72/71/74/81 57/64/72/71/74/81 57/64/72/71/74/81 57/64/72/71/74/81 57/64/72/71/74/81 57/64/72/71/74/81 57/64/72/71/74/81 57/64/72/71/74/81 57/64/72/71/74/81 57/64/72/71/74/81 57/64/\n",
            "\n",
            "[410 | 552.48] loss=0.02 avg=0.09\n",
            "[420 | 564.92] loss=0.03 avg=0.08\n",
            "[430 | 577.40] loss=0.02 avg=0.08\n",
            "[440 | 589.84] loss=0.04 avg=0.08\n",
            "[450 | 602.29] loss=0.02 avg=0.08\n",
            "[460 | 614.72] loss=0.02 avg=0.08\n",
            "[470 | 627.17] loss=0.03 avg=0.08\n",
            "[480 | 639.62] loss=0.02 avg=0.08\n",
            "[490 | 652.04] loss=0.02 avg=0.07\n",
            "[500 | 664.48] loss=0.02 avg=0.07\n",
            "Saving checkpoint/run_1/model-500\n",
            "======== SAMPLE 1 ========\n",
            "75/81 45/55/59/56/60/63/67 45/55/59/56/60/63/67 45/55/59/56/60/63/67 45/55/59/56/60/63/67 45/55/59/56/60/63/67 45/55/59/56/60/63/67 45/55/59/56/60/63/67 45/55/59/56/60/63/67 45/55/59/56/60/63/67 45/55/59/56/60/63/67 45/55/59/56/60/63/67 41/55/56/60/63/67 41/55/56/60/63/67 41/55/56/60/63/67 41/55/56/60/63/67 41/55/56/60/63/67 41/55/56/60/63/67 41/55/56/60/63/67 41/55/56/60/63/67 41/55/56/60/63/67 41/55/56/60/63/67 41/55/56/60/63/67 41/55/56/60/63/67 41/55/56/60/63/67 41/55/56/60/63/67 41/55/56/60/63/67 41/55/56/60/63/67 41/55/56/60/63/67 48/60/62/63/67/70 48/60/62/63/67/70 48/60/62/63/67/70 48/60/62/63/67/70 48/60/62/63/67/70 48/60/62/63/67/70 48/60/62/63/67/70 48/60/62/63/67/70 48/60/62/63/67/70 48/60/62/63/67/70 48/60/62/63/67/70 48/60/62/63/67/70 48/60/62/63/67/70 48/60/62/63/67/70 48/60/62/63/67/70 48/60/62/63/67/70 48/60/62/63/67/70 48/60/62/63/67/70 48/60/62/63/67/70 48/60/62/63/67/70 48/60/62/63/67/70 48/60/62/63/67/70 48/60/62/63/67/70 48/60/62/63/67/70 48/60/62/63/67/70 48/60/62/63/67/70 48/60/62/63/67/70 48/60/62/63/67/70 48/60/62/63/67/70 48/60/62/63/67/70 48/60/62/63/67/70 48/60/62/63/67/70 45/59/60/64/67/71 45/59/60/64/67/71 45/59/60/64/67/71 45/59/60/64/67/71 45/59/60/64/67/71 45/59/60/64/67/71 45/59/60/64/67/71 45/59/60/64/67/71 45/59/60/64/67/71 45/59/60/64/67/71 45/59/60/64/67/71 45/59/60/64/67/71 45/59/60/64/67/71 44/58/60/63/67/70 44/58/60/63/67/70 44/58/60/63/67/70 44/58/60/63/67/70 44/58/60/63/67/70 44/58/60/63/67/70 44/58/60/63/67/70 44/58/60/63/67/70 44/58/60/63/67/70 44/58/60/63/67/70 44/58/60/63/67/70 44/58/60/63/67/70 44/58/60/63/67/70 44/58/60/63/67/70.<|endoftext|>38/50/54/57/61 38/50/54/57/61 38/50/54/57/61 38/50/54/57/\n",
            "\n",
            "[510 | 688.30] loss=0.02 avg=0.07\n",
            "[520 | 700.75] loss=0.02 avg=0.07\n",
            "[530 | 713.19] loss=0.02 avg=0.07\n",
            "[540 | 725.62] loss=0.02 avg=0.07\n",
            "[550 | 738.07] loss=0.03 avg=0.07\n",
            "[560 | 750.51] loss=0.02 avg=0.07\n",
            "[570 | 762.97] loss=0.02 avg=0.06\n",
            "[580 | 775.41] loss=0.02 avg=0.06\n",
            "[590 | 787.85] loss=0.02 avg=0.06\n",
            "[600 | 800.30] loss=0.03 avg=0.06\n",
            "======== SAMPLE 1 ========\n",
            "61 47/54/57/59/62 47/54/61/62/54 47/54/61/62/54 47/54/61/62/54/57 47/54/61/62/54/57 61/62/54/57/59 61/62/54/57/59 43/ 60/ 47/ 54/ 57/ 53/ 59/ 66/ other/ 45/ 60/ 71/ 70/ 60/ 72/ 63/69/69/73 63/69/69/73 62/69/69/73 63/69/69/73 63/69/69/73 63/69/69/73 63/69/69/73 63/69/69/73 63/69/69/73 63/69/69/71 63/69/69/71 63/69/69/71 63/69/69/71 63/69/69/71 63/69/69/71 63/69/69/71 63/69/69/71 - 62 65 69 - 72 - - - 72 72 72/61/63/66 72/61/63/66 72/61/63/66 72/61/63/66 72/61/63/66 72/61/63/66 72/61/63/66 72/61/63/66 72/61/63/66 61/63/66/61 61/63/66/61 61/63/66/61 61/63/66/61 61/63/66/61 61/63/66/61 59/66/69/71 59/66/69/71 59/66/69/71 59/66/69/71 59/66/69/71 59/66/69/71 59/66/69/71 59/66/69/71 59/66/69/71 59/66/69/71 59/66/69/71 59/66/69/71 59/66/69/74 59/66/69/74 59/66/69/71 59/66/69/71 59/66/69/78 59/66/69/78 59/66/69/78 59/66/69/73 59/66/69/73 59/66/69/73 62/65/68/73 62/65/68/73 62/65/68/73 62/65/68/73 62/65/68/73 62/65/68/73 62/65/68/73 62/65/68/71 62/65/68/71 62/65/68/71 62/65/68/71 62/65/68/71 62/65/68/71 62/65/68/71 62/65/68/71 62/65/68/71 68/71/61/64 68/71/61/64 68/71/61/64 68/71/61/64 68/71/61/64 68/71/61/64 68/71/61/64 68/61/64/69 68/61/64/69 68/61/64/69 68/61/64/71 71/57/67/69 57/67/69/73 57/67/69/73 57/67/69/73 62/69/73/78 62/69/73/78 62/69/73/78 62/69/73/78 62/69/73/80 62/69/73/80 62/69/73/80 62/69/73/80 61/67/70/76 61/67/70/76 61/67/70/76 61/67/70/76 61/67/70/73 61/67/70/73 61/67/70/73 61/67/70/73 59/66/69/71 59/66/69/71 59/66/69/71 59/66/69/71 59/66/69/71 59/66/69/71 59/66/69/71 59/66/69/73 59/66/69/73 59/66/69/73 59/66/69/73 59/66/69/73 59/66/69/71 59/66/69/71 59/66/69/78 59/66/69/78 59/66/69/78 59/66/69/73 59/66/69/73 59/66/69/73 59/66/69/73 57/61/66/71 57/61/66/71 57/61/66/71 57/61/66/71 57/61/66/71 57/61/66/71 57/61/66/71 57/61/66/71 57/61/66\n",
            "\n",
            "[610 | 821.42] loss=0.02 avg=0.06\n",
            "[620 | 833.88] loss=0.02 avg=0.06\n",
            "[630 | 846.34] loss=0.02 avg=0.06\n",
            "[640 | 858.81] loss=0.01 avg=0.06\n",
            "[650 | 871.26] loss=0.02 avg=0.06\n",
            "[660 | 883.74] loss=0.02 avg=0.06\n",
            "[670 | 896.22] loss=0.02 avg=0.06\n",
            "[680 | 908.67] loss=0.02 avg=0.06\n",
            "[690 | 921.12] loss=0.02 avg=0.05\n",
            "[700 | 933.56] loss=0.02 avg=0.05\n",
            "======== SAMPLE 1 ========\n",
            "68/62/69/43 43/50/59/55/60/64/67/71 43/50/59/55/60/64/67/71 43/50/59/55/60/64/67/71 43/50/59/55/60/64/67/71 43/50/59/55/60/64/67/71 43/50/59/55/60/64/67/71 43/50/59/55/60/64/67/71 43/50/59/55/60/64/67/71 43/50/59/55/60/64/67/71 43/50/59/60/64/67/71 43/50/59/60/64/67/71.<|endoftext|>65/76 65/76 65/76/72 65/76/72 65/76/72/69 65/76/72/69 65/72/69/76 65/72/69/76 - - - - - - - - 64/71 64/71 64/71/67 64/71/67 71/67/64 71/67/64 64/67/71 64/67/71 - - 62 65 69 - 72 - - - 72 72 72 72 72/69 72/69 72/69/76 72/69/76 - - - - - - 64/67/71 64/67/71 64/67/71 - - 71/76/79 71/76/79 71/76/79 71/76/79 - - 76 76 76 76 76 76 - - 65/76/84 65/76/84 65/76/72/81 65/76/72/81 65/76/72/69/79 65/76/72/69/79 65/72/69/76 65/72/69/76 - - - - - - - - - 64/71/77 64/71/76 64/71/67 64/71/67 71/67/64 71/67/64 64/67/71 64/67/71 - - 62/76 65/77 69/81 - 72/84 - - - 72/81 72/81 72/81/64 72/81/64 72/81/64 - - - - 81 81 81 81 81 65/76/84 65/76/84 65/76/72/81 65/76/72/81 65/76/72/69/79 65/76/72/69/79 65/72/69/76 65/72/69/76 - - - - - 69/76 69/76 - - 64/71/77 64/71/76 64/71/67 64/71/67 71/67/64 71/67/64 64/67/71 64/67/71 - - 62 65 69 - 72 - - - - 72 72 72 72 72/69 72/69 72/69/76 72/69/76 - - 79 79 79 76 76 76 76 - - 65/76/84 65/76/84 65/76/72/81 65/76/72/81 65/76/72/69/79 65/76/72/69/79 65/72/69/76 65/72/69/76 - - - - 69/76 69/76 - - 64/71/77 64/71/76 64/71/67 64/71/67 71/67/64 71/67/64 64/67/71 64/67/71 - - 62 65 69 - 72 - - - 72 72 72 72/69 72/69 72/69/76 72/69/76 - - 79 79 79 76 76 74 71 Brit/76 Brit/76 Brit/76 Brit/76/69 Brit/76/69 Brit/76/69 - - 62/76 65/77 69/81 - 72 - - - 72/81 72/81 72/81/64 72/81/64 64/81/64/67 64/81/64/67 64/81/64/67 64/81/64/67 - - 62/76 65/77 69/81 - 72 - - - 72/81 72/81 72/81 72/69 72/69 72/69/76 72/69/76 - - 79/79 79 79 76 76 76 74 71 Brit/76 Brit/76 Brit/76 Brit/76/69 Brit/76/69/76 71/76/79 71/76/79 71/76/79 71/76/79 69/76/78 69/76/78 69/76/78 69/76/78 69/76/78 64/71/76 64/71/76 64/71/67 64/71/67 71/67/64\n",
            "\n",
            "[710 | 954.69] loss=0.02 avg=0.05\n",
            "[720 | 967.13] loss=0.02 avg=0.05\n",
            "[730 | 979.58] loss=0.02 avg=0.05\n",
            "[740 | 992.05] loss=0.02 avg=0.05\n",
            "[750 | 1004.50] loss=0.02 avg=0.05\n",
            "[760 | 1016.95] loss=0.03 avg=0.05\n",
            "[770 | 1029.41] loss=0.03 avg=0.05\n",
            "[780 | 1041.87] loss=0.02 avg=0.05\n",
            "[790 | 1054.32] loss=0.03 avg=0.05\n",
            "[800 | 1066.77] loss=0.03 avg=0.05\n",
            "======== SAMPLE 1 ========\n",
            "/74 29/41/48/57/69/72/77 29/41/48/57/69/72/77 29/41/48/57 29/41/48/57 29/41/48/57/69/72/77 29/41/48/57/69/72/77 29/41/48/57 29/41/48/57 29/41/48/57/69/72/77/84 29/41/48/57/69/72/77/84 29/41/48/57/86 29/41/48/57/86 41/48/57/36/69/72/77/81 41/48/57/36/69/72/77/81 41/48/57/36/72/79/84 34/46/53/62/69/72/77 34/46/53/62/69/72/77 34/46/53/62 34/46/53/62 34/46/53/62/69/72/77 34/46/53/62/69/72/77 34/46/53/62 34/46/53/62 34/46/53/62/69/72/77/81 34/46/53/62/69/72/77/81 34/46/53/62/81/84 34/46/53/62/84 46/53/62/84/34/69/72/77/81 46/53/62/34/69/72/77/81 46/53/62/81/33/72/79 46/53/62/81/33/72/79 31/43/50/58/69/74/77 31/43/50/58/69/74/77 31/43/50/58 31/43/50/58 31/43/50/58/69/74/77 31/43/50/58/69/74/77 31/43/50/58 31/43/50/58 31/43/50/58/69/74/77/81 31/43/50/58/69/74/77/81 31/43/50/58/84 31/43/50/58/84 43/50/58/84/31/69/74/77/81 43/50/58/31/69/74/77/81 43/50/58/81/33/74/79 43/50/58/33/74/79 26/41/50/57/69/72/77 26/41/50/57/69/72/77 26/41/50/57 26/41/50/57 26/41/50/57/69/72/77 26/41/50/57/69/72/77 26/41/50/57 26/41/50/57 26/41/50/57/69/72/77/81 26/41/50/57/69/72/77/81 26/41/50/57/84 26/41/50/57/84 41/50/57/84/28/69/72/77/81 41/50/57/28/69/72/77/81 41/50/57/28/81/72/79 41/50/57/28/81/72/79 29/41/48/57/69/72/77 29/41/48/57/69/72/77 29/41/48/57 29/41/48/57 29/41/48/57/69/72/77 29/41/48/57/69/72/77 29/41/48/57 29/41/48/57 29/41/48/57/69/72/77/84 29/41/48/57/69/72/77/84 29/41/48/57/86 29/41/48/57/86 41/48/57/36/69/72/77/81 41/48/57/36/69/72/77/81 41/48/57/36/72/79/84.<|endoftext|>55/64/66/69/71 55/64/66/69/71 55/64/66/69/71 55/64/66/69/71 55/64/66/69/71 55/64/66/69/71 55/64/74 55/64/74 52/61/67/71/78 52/61/67/71/78 52/61/67/71/78 52/61/67/71/78 52/61/79 52/61/79 52/61/79\n",
            "\n",
            "[810 | 1088.13] loss=0.01 avg=0.05\n",
            "[820 | 1100.61] loss=0.02 avg=0.05\n",
            "[830 | 1113.06] loss=0.01 avg=0.05\n",
            "[840 | 1125.50] loss=0.02 avg=0.05\n",
            "[850 | 1137.94] loss=0.02 avg=0.05\n",
            "[860 | 1150.38] loss=0.02 avg=0.05\n",
            "[870 | 1162.82] loss=0.01 avg=0.05\n",
            "[880 | 1175.26] loss=0.02 avg=0.04\n",
            "[890 | 1187.71] loss=0.02 avg=0.04\n",
            "[900 | 1200.19] loss=0.02 avg=0.04\n",
            "======== SAMPLE 1 ========\n",
            "69/74 74 74/61/63 61/63/75 51/84 49/57/63/58/65/69/74 51/84 49/57/63/58/65/69/74 51/84 49/57/63/58/65/69/74 51/57/62/65/69/74 51/57/62/65/69/74 51/57/62/65/69/74 51/57/62/65/69/74 51/57/62/65/69/74 51/57/62/65/69/74 49/57/62/65/69/74 49/57/62/65/69/74 49/57/62/65/69/84 49/57/62/65/69/84 49/57/62/65/69/84 49/57/62/65/69/72 49/57/62/65/69/72 49/57/62/65/69/72 49/57/62/65/69/72 49/57/62/65/69/72 49/57/62/65/69/72 49/57/62/65/69/72 49/57/62/75 49/57/62/74 49/57/62/73 49/57/62/71 49/57/62/69/72/77 49/57/62/69/72/77 49/57/62/69/72/77 49/57/62/69/72/77 49/57/62/69/72/77 49/57/62/79 49/57/62/74 49/57/62/71 49/57/62/69/72/77 49/57/62/69/72/77 49/57/62/69/72/77 49/57/62/69/72/77 49/57/62/79 49/57/62/74 49/57/62/71 49/57/62/69/72/77 49/57/62/69/72/77 49/57/62/69/72/77/86 49/57/62/86 49/57/62/74 49/57/62/71 49/57/62/69/72/77 49/57/62/69/72/77 49/57/62/69/72/77 49/57/62/69/72/77 49/57/62/69/72/77 49/57/62/79 49/57/62/74 49/57/62/71 49/57/62/69/72/77 49/57/62/69/72/77 49/57/62/69/72/77/84 49/57/62/84 49/57/62/69/72/77/81 49/57/62/81 49/57/62/69/72/77/81 49/57/62/69/72/77 49/57/62/79 49/57/62/74 49/57/62/71 49/57/62/69/72/77 49/57/62/69/72/77 49/57/62/69/72/77 49/57/62/79 49/57/62/74 49/57/62/71 49/57/62/69/72/77 49/57/62/69/72/77 49/57/62/69/72/77 49/57/62/76 49/57/62/81 49/57/62/69/72/77 49/57/62/69/72/77 49/57/62/69/72/77 49/57/62/76 49/57/62/79 49/57/62/74 49/57/62/71 49/57/62/69/72/77 49/57/62/69/72/77 49/57/62/69/72/77 49/57/62/69/72/77 49/57/62/75 49/57/62/74 49/57/62/71 49/57/62/69/72/77 49/57/62/69/72/77 49/57/62/69/72/77 49/57/62/75 49/57/62/74 49/57/62/71 49/57/62/69/72/77 49/57/62/69/72/77 49/57/62/69/72/77 49/57/62/69/72/77 49/57/62/69/72/77 49/57/62/84 49/57/62/84 49/57/62/\n",
            "\n",
            "[910 | 1221.30] loss=0.02 avg=0.04\n",
            "[920 | 1233.76] loss=0.01 avg=0.04\n",
            "[930 | 1246.20] loss=0.02 avg=0.04\n",
            "[940 | 1258.65] loss=0.02 avg=0.04\n",
            "[950 | 1271.09] loss=0.02 avg=0.04\n",
            "[960 | 1283.54] loss=0.02 avg=0.04\n",
            "[970 | 1295.99] loss=0.02 avg=0.04\n",
            "[980 | 1308.43] loss=0.02 avg=0.04\n",
            "[990 | 1320.87] loss=0.01 avg=0.04\n",
            "[1000 | 1333.33] loss=0.03 avg=0.04\n",
            "Saving checkpoint/run_1/model-1000\n",
            "WARNING:tensorflow:From /tensorflow-1.15.2/python3.6/tensorflow_core/python/training/saver.py:963: remove_checkpoint (from tensorflow.python.training.checkpoint_management) is deprecated and will be removed in a future version.\n",
            "Instructions for updating:\n",
            "Use standard file APIs to delete files with this prefix.\n"
          ],
          "name": "stdout"
        }
      ]
    },
    {
      "cell_type": "markdown",
      "metadata": {
        "id": "IXSuTNERaw6K",
        "colab_type": "text"
      },
      "source": [
        "After the model is trained, you can copy the checkpoint folder to your own Google Drive.\n",
        "\n",
        "If you want to download it to your personal computer, it's strongly recommended you copy it there first, then download from Google Drive. The checkpoint folder is copied as a `.rar` compressed file; you can download it and uncompress it locally."
      ]
    },
    {
      "cell_type": "code",
      "metadata": {
        "id": "VHdTL8NDbAh3",
        "colab_type": "code",
        "colab": {
          "base_uri": "https://localhost:8080/",
          "height": 34
        },
        "outputId": "a07c6a7b-7bc3-469a-c2a0-4159febf9707"
      },
      "source": [
        "# gpt2.copy_checkpoint_to_gdrive(run_name='run1')\n",
        "def copy_checkpoint_to_gdrive(run_name='run1'):\n",
        "  gpt2.is_mounted()\n",
        "\n",
        "  checkpoint_folder = os.path.join('checkpoint', run_name)\n",
        "\n",
        "  file_path = gpt2.get_tarfile_name(checkpoint_folder)\n",
        "\n",
        "  with tarfile.open(file_path, 'w') as tar:\n",
        "    tar.add(checkpoint_folder)\n",
        "\n",
        "  print(\"Copying to\", drive_pre + main_dir + file_path)\n",
        "  shutil.copyfile(file_path, drive_pre + main_dir + file_path)\n",
        "\n",
        "copy_checkpoint_to_gdrive(run)"
      ],
      "execution_count": 11,
      "outputs": [
        {
          "output_type": "stream",
          "text": [
            "Copying to /content/drive/My Drive/gpt2simple/checkpoint_run_1.tar\n"
          ],
          "name": "stdout"
        }
      ]
    },
    {
      "cell_type": "markdown",
      "metadata": {
        "id": "qQJgV_b4bmzd",
        "colab_type": "text"
      },
      "source": [
        "You're done! Feel free to go to the **Generate Text From The Trained Model** section to generate text based on your retrained model."
      ]
    },
    {
      "cell_type": "markdown",
      "metadata": {
        "id": "pel-uBULXO2L",
        "colab_type": "text"
      },
      "source": [
        "## Load a Trained Model Checkpoint\n",
        "\n",
        "Running the next cell will copy the `.rar` checkpoint file from your Google Drive into the Colaboratory VM."
      ]
    },
    {
      "cell_type": "code",
      "metadata": {
        "id": "DCcx5u7sbPTD",
        "colab_type": "code",
        "colab": {}
      },
      "source": [
        "#gpt2.copy_checkpoint_from_gdrive(run_name='run1')\n",
        "def copy_checkpoint_from_gdrive(run_name='run1'):\n",
        "  gpt2.is_mounted()\n",
        "\n",
        "  checkpoint_folder = os.path.join('checkpoint', run_name)\n",
        "\n",
        "  file_path = gpt2.get_tarfile_name(checkpoint_folder)\n",
        "\n",
        "  shutil.copyfile(drive_pre + main_dir + + file_path, file_path)\n",
        "\n",
        "  with tarfile.open(file_path, 'r') as tar:\n",
        "    tar.extractall()\n",
        "  \n",
        "copy_checkpoint_from_gdrive(run)"
      ],
      "execution_count": null,
      "outputs": []
    },
    {
      "cell_type": "markdown",
      "metadata": {
        "id": "RTa6zf3e_9gV",
        "colab_type": "text"
      },
      "source": [
        "The next cell will allow you to load the retrained model checkpoint + metadata necessary to generate text.\n",
        "\n",
        "**IMPORTANT NOTE:** If you want to rerun this cell, **restart the VM first** (Runtime -> Restart Runtime). You will need to rerun imports but not recopy files."
      ]
    },
    {
      "cell_type": "code",
      "metadata": {
        "id": "-fxL77nvAMAX",
        "colab_type": "code",
        "colab": {}
      },
      "source": [
        "sess = gpt2.start_tf_sess()\n",
        "gpt2.load_gpt2(sess, run_name='run1')"
      ],
      "execution_count": null,
      "outputs": []
    },
    {
      "cell_type": "markdown",
      "metadata": {
        "id": "ClJwpF_ACONp",
        "colab_type": "text"
      },
      "source": [
        "## Generate Text From The Trained Model\n",
        "\n",
        "After you've trained the model or loaded a retrained model from checkpoint, you can now generate text. `generate` generates a single text from the loaded model."
      ]
    },
    {
      "cell_type": "code",
      "metadata": {
        "id": "4RNY6RBI9LmL",
        "colab_type": "code",
        "colab": {}
      },
      "source": [
        "genned = gpt2.generate(sess, nsamples=10, run_name=run, return_as_list=True)\n",
        "\n",
        "save_folder = drive_pre + main_dir + \"generated_midi_texts_{}/\".format(run)\n",
        "\n",
        "i = 1\n",
        "for gen in genned:\n",
        "    for block in gen.split(\"<|endoftext|>\"):\n",
        "        for line in block.split(\"\\n\"):\n",
        "            for song in line.split(\".\"):\n",
        "                if song == \"\":\n",
        "                    continue\n",
        "                if song[0] == \"/\":\n",
        "                  song = song[1:]\n",
        "                if song[-1] == \"/\":\n",
        "                    song = song[:-1]\n",
        "                song = song + \".\"\n",
        "                file_name = \"midi_string_output_{}_{:%Y%m%d_%H%M%S}.txt\".format(i,datetime.utcnow())\n",
        "                with open(save_folder+file_name, \"w\") as f:\n",
        "                    f.write(song)\n",
        "                i += 1"
      ],
      "execution_count": 14,
      "outputs": []
    },
    {
      "cell_type": "markdown",
      "metadata": {
        "id": "ig-KVgkCDCKD",
        "colab_type": "text"
      },
      "source": [
        "# Etcetera\n",
        "\n",
        "If the notebook has errors (e.g. GPU Sync Fail), force-kill the Colaboratory virtual machine and restart it with the command below:"
      ]
    },
    {
      "cell_type": "code",
      "metadata": {
        "id": "rIHiVP53FnsX",
        "colab_type": "code",
        "colab": {}
      },
      "source": [
        "!kill -9 -1"
      ],
      "execution_count": null,
      "outputs": []
    },
    {
      "cell_type": "markdown",
      "metadata": {
        "id": "wmTXWNUygS5E",
        "colab_type": "text"
      },
      "source": [
        "# LICENSE\n",
        "\n",
        "MIT License\n",
        "\n",
        "Copyright (c) 2019 Max Woolf\n",
        "\n",
        "Permission is hereby granted, free of charge, to any person obtaining a copy\n",
        "of this software and associated documentation files (the \"Software\"), to deal\n",
        "in the Software without restriction, including without limitation the rights\n",
        "to use, copy, modify, merge, publish, distribute, sublicense, and/or sell\n",
        "copies of the Software, and to permit persons to whom the Software is\n",
        "furnished to do so, subject to the following conditions:\n",
        "\n",
        "The above copyright notice and this permission notice shall be included in all\n",
        "copies or substantial portions of the Software.\n",
        "\n",
        "THE SOFTWARE IS PROVIDED \"AS IS\", WITHOUT WARRANTY OF ANY KIND, EXPRESS OR\n",
        "IMPLIED, INCLUDING BUT NOT LIMITED TO THE WARRANTIES OF MERCHANTABILITY,\n",
        "FITNESS FOR A PARTICULAR PURPOSE AND NONINFRINGEMENT. IN NO EVENT SHALL THE\n",
        "AUTHORS OR COPYRIGHT HOLDERS BE LIABLE FOR ANY CLAIM, DAMAGES OR OTHER\n",
        "LIABILITY, WHETHER IN AN ACTION OF CONTRACT, TORT OR OTHERWISE, ARISING FROM,\n",
        "OUT OF OR IN CONNECTION WITH THE SOFTWARE OR THE USE OR OTHER DEALINGS IN THE\n",
        "SOFTWARE."
      ]
    }
  ]
}